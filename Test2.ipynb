{
 "cells": [
  {
   "cell_type": "markdown",
   "id": "aee9c374-8e27-4822-9c92-832f2bf8fc2c",
   "metadata": {},
   "source": [
    "#### 1. Find the 2nd largest and 2nd smallest element in a list."
   ]
  },
  {
   "cell_type": "code",
   "execution_count": 17,
   "id": "c3787679-7abc-40f6-be6f-c661afb03f6e",
   "metadata": {},
   "outputs": [
    {
     "name": "stdout",
     "output_type": "stream",
     "text": [
      "second largest element ;  64\n",
      "second smallest element:  3\n"
     ]
    }
   ],
   "source": [
    "list = {1,2,3,33,45,64,23,12,67,54,}\n",
    "list1 =sorted(list)\n",
    "second_largest = list1[-2]\n",
    "second_smallest = list1[2]\n",
    "\n",
    "print (\"second largest element ; \" , second_largest)\n",
    "print (\"second smallest element: \", second_smallest)"
   ]
  },
  {
   "cell_type": "markdown",
   "id": "1f358a74-70c7-4155-b49e-dad06974b0c0",
   "metadata": {},
   "source": [
    "#### 2. Find the key with the largest value in a dictionary."
   ]
  },
  {
   "cell_type": "code",
   "execution_count": 22,
   "id": "6f68cf5c-deb3-4b0b-b527-d3f12da07b0d",
   "metadata": {},
   "outputs": [
    {
     "name": "stdout",
     "output_type": "stream",
     "text": [
      "largest value in dictionary : c\n"
     ]
    }
   ],
   "source": [
    "dict = {\"a\": 3, \"b\": 20, \"c\": 67, \"d\": 45,}\n",
    "\n",
    "largest_val = max(dict,key = dict.get)\n",
    "\n",
    "print(\"largest value in dictionary :\" , largest_val)\n",
    "\n"
   ]
  },
  {
   "cell_type": "markdown",
   "id": "3bf6da34-5ac8-4dc4-93a3-8a4061c262bc",
   "metadata": {},
   "source": [
    "#### 3. Create a new folder using os module and create a file inside it.f"
   ]
  },
  {
   "cell_type": "code",
   "execution_count": 11,
   "id": "83a28cf6-0617-4047-9eab-46fd57eae94c",
   "metadata": {},
   "outputs": [
    {
     "name": "stdout",
     "output_type": "stream",
     "text": [
      "Succesfully create the folder and file\n"
     ]
    }
   ],
   "source": [
    "\n",
    "os.mkdir (\"Harshal\")\n",
    "f = open(\"Harshal/newfile.txt\",\"w\")\n",
    "f.write(\"my file is inside harshal\")\n",
    "f.close()\n",
    "print(\"Succesfully create the folder and file\")"
   ]
  },
  {
   "cell_type": "code",
   "execution_count": null,
   "id": "7e8688cb-f5ca-4d04-a811-c8ebec6cb7d3",
   "metadata": {},
   "outputs": [],
   "source": []
  },
  {
   "cell_type": "markdown",
   "id": "a16d66c4-a9c9-4e12-8b97-34129abd735f",
   "metadata": {},
   "source": [
    "#### 4. Write a recursive function to calculate Fibonacci series up to n terms. "
   ]
  },
  {
   "cell_type": "code",
   "execution_count": null,
   "id": "98198ea7-447c-4bce-a8ac-e7a0ed159080",
   "metadata": {},
   "outputs": [],
   "source": []
  },
  {
   "cell_type": "markdown",
   "id": "b5370caa-354a-4261-9f20-036641b82c1b",
   "metadata": {},
   "source": [
    "#### 5. Use a lambda with map() to convert a list of integers into their cubes. "
   ]
  },
  {
   "cell_type": "code",
   "execution_count": 1,
   "id": "8a2cdd24-9b4c-4fa3-89ff-dda7fb54ca14",
   "metadata": {},
   "outputs": [
    {
     "name": "stdout",
     "output_type": "stream",
     "text": [
      "[1, 8, 27, 64, 125, 216, 300763, 512, 729]\n"
     ]
    }
   ],
   "source": [
    "lst = [1,2,3,4,5,6,67,8,9]\n",
    "cube_lst = list(map(lambda x:x**3 , lst))\n",
    "print(cube_lst)"
   ]
  },
  {
   "cell_type": "markdown",
   "id": "9e7fc995-52a8-43f5-a0dd-573a9d6a9e94",
   "metadata": {},
   "source": [
    "#### 6. Create a class Employee that increases salary by 10%."
   ]
  },
  {
   "cell_type": "code",
   "execution_count": 5,
   "id": "9bac0e01-3176-4aac-b8d3-945b3fe533f8",
   "metadata": {},
   "outputs": [],
   "source": [
    "class Employee:\n",
    "    def salary(self,salary):\n",
    "        print(f\"The Salary hike of the employee : {salary*0.1}\")"
   ]
  },
  {
   "cell_type": "code",
   "execution_count": 6,
   "id": "aa86c3c0-d6f8-418d-b860-29aae093f9e1",
   "metadata": {},
   "outputs": [],
   "source": [
    "obj=Employee()"
   ]
  },
  {
   "cell_type": "code",
   "execution_count": 7,
   "id": "33aedfce-9cd5-4f52-9848-e8fcdcf14a7b",
   "metadata": {},
   "outputs": [
    {
     "name": "stdout",
     "output_type": "stream",
     "text": [
      "The Salary hike of the employee : 3500.0\n"
     ]
    }
   ],
   "source": [
    "obj.salary(35000)"
   ]
  },
  {
   "cell_type": "markdown",
   "id": "7f8d6670-1dc0-4762-a124-02994b2126ae",
   "metadata": {},
   "source": [
    "#### 7. Write a program to print the date 30 days from today."
   ]
  },
  {
   "cell_type": "code",
   "execution_count": 2,
   "id": "cb9debef-0c62-406b-b28f-64f73b1ac52a",
   "metadata": {},
   "outputs": [
    {
     "name": "stdout",
     "output_type": "stream",
     "text": [
      "today's date 2025-09-16\n",
      "date after 30 day : 2025-10-16\n"
     ]
    }
   ],
   "source": [
    "import datetime\n",
    "today=datetime.date.today()\n",
    "print(\"today's date\",today)\n",
    "onemonth=today+datetime.timedelta(days=30)\n",
    "print(\"date after 30 day :\",onemonth)"
   ]
  },
  {
   "cell_type": "markdown",
   "id": "f8982c29-ced0-4915-961f-aeccbeac23dd",
   "metadata": {},
   "source": [
    "#### 8. Write a program to convert radians to degrees and vice versa"
   ]
  },
  {
   "cell_type": "code",
   "execution_count": 15,
   "id": "28fdbd81-4f9f-4ccc-9cb6-11007f5ec451",
   "metadata": {},
   "outputs": [
    {
     "name": "stdout",
     "output_type": "stream",
     "text": [
      "0.3141592653589793\n",
      "1031.324031235482\n"
     ]
    }
   ],
   "source": [
    "import math\n",
    "y = math.radians(18)\n",
    "print(y)\n",
    "\n",
    "x = math.degrees(18)\n",
    "print(x)"
   ]
  },
  {
   "cell_type": "code",
   "execution_count": null,
   "id": "4f4091cb-c337-4af2-83a5-fc8cae69f4b5",
   "metadata": {},
   "outputs": [],
   "source": []
  }
 ],
 "metadata": {
  "kernelspec": {
   "display_name": "Python 3 (ipykernel)",
   "language": "python",
   "name": "python3"
  },
  "language_info": {
   "codemirror_mode": {
    "name": "ipython",
    "version": 3
   },
   "file_extension": ".py",
   "mimetype": "text/x-python",
   "name": "python",
   "nbconvert_exporter": "python",
   "pygments_lexer": "ipython3",
   "version": "3.13.5"
  }
 },
 "nbformat": 4,
 "nbformat_minor": 5
}
