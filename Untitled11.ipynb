{
 "cells": [
  {
   "cell_type": "code",
   "execution_count": null,
   "id": "1d9e7833-41a1-4d60-9d9d-957a4aaf53fe",
   "metadata": {},
   "outputs": [],
   "source": [
    "6. Digit Rearrangement\n",
    "Take an integer and rearrange its digits in descending order.\n",
    "Example: 42153 → 54321\n"
   ]
  },
  {
   "cell_type": "code",
   "execution_count": 3,
   "id": "dbfbdc26-50f3-4f10-b5fb-3191f025d705",
   "metadata": {},
   "outputs": [
    {
     "name": "stdin",
     "output_type": "stream",
     "text": [
      "Enter a  number 976543201\n"
     ]
    },
    {
     "name": "stdout",
     "output_type": "stream",
     "text": [
      "102345679\n"
     ]
    }
   ],
   "source": [
    "digit =(input(\"Enter a  number\"))\n",
    "descending_order = digit[::-1]\n",
    "print (descending_order)"
   ]
  },
  {
   "cell_type": "code",
   "execution_count": null,
   "id": "d2184199-7e72-4039-81e1-63bacfb22a5b",
   "metadata": {},
   "outputs": [],
   "source": [
    "1. Second Largest Without Sorting\n",
    "Write a program to find the second largest number in a list without using sort() or max() more than once.\n"
   ]
  },
  {
   "cell_type": "code",
   "execution_count": 4,
   "id": "2d43a1f3-e966-4eaa-b4f6-caabbfd4f117",
   "metadata": {},
   "outputs": [
    {
     "name": "stdout",
     "output_type": "stream",
     "text": [
      "8\n"
     ]
    }
   ],
   "source": [
    "l1 =[2,3,4,5,6,7,8,8,9,9,9]\n",
    "s=set(l1)\n",
    "\n",
    "m=list(s)\n",
    "\n",
    "print(m[-2])"
   ]
  },
  {
   "cell_type": "code",
   "execution_count": null,
   "id": "48ceaefe-5248-4bdc-a329-0e012e2d7143",
   "metadata": {},
   "outputs": [],
   "source": [
    "\n",
    "2. Missing Number in Range\n",
    "Input: a list of unique numbers from 1 to n (with one missing). Find the missing number using loops only.\n",
    "Example: [1, 2, 4, 5] → Output: 3\n",
    "\n",
    "\n"
   ]
  },
  {
   "cell_type": "code",
   "execution_count": null,
   "id": "ae10ed65-7c64-4431-835b-4e2ae3002f00",
   "metadata": {},
   "outputs": [],
   "source": []
  },
  {
   "cell_type": "code",
   "execution_count": null,
   "id": "c37e21b3-7b02-472d-9087-f14cc1380ebf",
   "metadata": {},
   "outputs": [],
   "source": [
    "11. Count Words Starting with Vowel\n",
    "Given a sentence, count how many words start with a vowel.\n",
    "Example: \"An elephant is under a tree\" → 3\n"
   ]
  },
  {
   "cell_type": "code",
   "execution_count": null,
   "id": "dd390f23-b9ae-4678-91c3-8cb8ecc3047a",
   "metadata": {},
   "outputs": [],
   "source": []
  },
  {
   "cell_type": "code",
   "execution_count": null,
   "id": "c62934cc-78c4-4f78-9033-30df07b8ea90",
   "metadata": {},
   "outputs": [],
   "source": [
    "4. Check Balanced String\n",
    "A string is balanced if the number of vowels equals the number of consonants.\n",
    "Example: \"code\" → Balanced (2 vowels, 2 consonants).\t\n"
   ]
  },
  {
   "cell_type": "code",
   "execution_count": 27,
   "id": "fffd7dbf-972f-4696-8148-323160a36bd7",
   "metadata": {},
   "outputs": [
    {
     "name": "stdin",
     "output_type": "stream",
     "text": [
      "enter your string : code\n"
     ]
    },
    {
     "name": "stdout",
     "output_type": "stream",
     "text": [
      "its a balanced string\n",
      "its a balanced string\n",
      "not balanced\n",
      "2 2\n"
     ]
    }
   ],
   "source": [
    "strl = input(\"enter your string :\")\n",
    "\n",
    "vowel =\"aeiou\"\n",
    "count =0\n",
    "consonants =0\n",
    "for i in strl:\n",
    "    if i in vowel:\n",
    "        count+=1\n",
    "    else:\n",
    "        consonants+=1\n",
    "    if count == consonants:\n",
    "        print(\"its a balanced string\")\n",
    "else:\n",
    "    print(\"not balanced\")\n",
    "\n",
    "print(count,consonants)"
   ]
  },
  {
   "cell_type": "code",
   "execution_count": null,
   "id": "df4477e4-6136-4158-aac9-8681151b79aa",
   "metadata": {},
   "outputs": [],
   "source": []
  }
 ],
 "metadata": {
  "kernelspec": {
   "display_name": "Python 3 (ipykernel)",
   "language": "python",
   "name": "python3"
  },
  "language_info": {
   "codemirror_mode": {
    "name": "ipython",
    "version": 3
   },
   "file_extension": ".py",
   "mimetype": "text/x-python",
   "name": "python",
   "nbconvert_exporter": "python",
   "pygments_lexer": "ipython3",
   "version": "3.13.5"
  }
 },
 "nbformat": 4,
 "nbformat_minor": 5
}
